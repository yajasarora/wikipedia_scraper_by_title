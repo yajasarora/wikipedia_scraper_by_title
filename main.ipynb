{
 "cells": [
  {
   "cell_type": "code",
   "execution_count": 10,
   "metadata": {},
   "outputs": [],
   "source": [
    "from bs4 import BeautifulSoup as bs\n",
    "import requests\n",
    "import re\n",
    "import pandas as pd\n",
    "\n",
    "\n",
    "def wiki_scraper():\n",
    "    title=str(input('Enter title you want to search about: '))\n",
    "    if title=='':\n",
    "        print('Please enter a valid title')\n",
    "        return\n",
    "    title=title.replace(' ','+')\n",
    "    url='https://www.google.com/search?q='+title+'+wikipedia'\n",
    "\n",
    "    res=requests.get(url)\n",
    "    soup=bs(res.text,'html.parser')\n",
    "\n",
    "    for sp in soup.find_all('div'):\n",
    "        try:\n",
    "            if 'en.wikipedia.org' in sp.find('a').get('href'):\n",
    "                wiki_url=sp.find('a').get('href')\n",
    "                wiki_url=wiki_url.split('&')[0][7:]\n",
    "                \n",
    "                break\n",
    "        except:\n",
    "            pass\n",
    "\n",
    "    res=requests.get(wiki_url)\n",
    "    soup=bs(res.text,'html.parser')\n",
    "    content=''\n",
    "\n",
    "    for sp in soup.find_all('p'):\n",
    "        content+=sp.text\n",
    "        content+='\\n'\n",
    "\n",
    "    content=content.strip()\n",
    "\n",
    "    content=re.sub(r'\\[.*?\\]','',content)\n",
    "    # print(content)\n",
    "\n",
    "    fd=open(f'{title.replace('+',\"_\")}.txt','w')\n",
    "    fd.write(content)\n",
    "    fd.close()\n",
    "    print(f'{title.replace('+',\"_\")}.txt file created successfully')\n",
    "\n"
   ]
  },
  {
   "cell_type": "code",
   "execution_count": 11,
   "metadata": {},
   "outputs": [
    {
     "name": "stdout",
     "output_type": "stream",
     "text": [
      "Please enter a valid title\n"
     ]
    }
   ],
   "source": [
    "if __name__=='__main__':\n",
    "    wiki_scraper()"
   ]
  }
 ],
 "metadata": {
  "kernelspec": {
   "display_name": "Python 3",
   "language": "python",
   "name": "python3"
  },
  "language_info": {
   "codemirror_mode": {
    "name": "ipython",
    "version": 3
   },
   "file_extension": ".py",
   "mimetype": "text/x-python",
   "name": "python",
   "nbconvert_exporter": "python",
   "pygments_lexer": "ipython3",
   "version": "3.12.4"
  }
 },
 "nbformat": 4,
 "nbformat_minor": 2
}
